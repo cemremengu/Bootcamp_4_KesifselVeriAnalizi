{
 "cells": [
  {
   "cell_type": "code",
   "execution_count": 7,
   "metadata": {},
   "outputs": [
    {
     "name": "stdout",
     "output_type": "stream",
     "text": [
      "<class 'pandas.core.frame.DataFrame'>\n",
      "RangeIndex: 104752 entries, 0 to 104751\n",
      "Data columns (total 7 columns):\n",
      "category_id      104752 non-null int64\n",
      "category_name    104752 non-null object\n",
      "channel_id       104752 non-null object\n",
      "followers        104752 non-null int64\n",
      "profile_url      104752 non-null object\n",
      "title            104744 non-null object\n",
      "videos           104752 non-null int64\n",
      "dtypes: int64(3), object(4)\n",
      "memory usage: 5.6+ MB\n"
     ]
    },
    {
     "data": {
      "text/html": [
       "<div>\n",
       "<style scoped>\n",
       "    .dataframe tbody tr th:only-of-type {\n",
       "        vertical-align: middle;\n",
       "    }\n",
       "\n",
       "    .dataframe tbody tr th {\n",
       "        vertical-align: top;\n",
       "    }\n",
       "\n",
       "    .dataframe thead th {\n",
       "        text-align: right;\n",
       "    }\n",
       "</style>\n",
       "<table border=\"1\" class=\"dataframe\">\n",
       "  <thead>\n",
       "    <tr style=\"text-align: right;\">\n",
       "      <th></th>\n",
       "      <th>category_id</th>\n",
       "      <th>category_name</th>\n",
       "      <th>channel_id</th>\n",
       "      <th>followers</th>\n",
       "      <th>profile_url</th>\n",
       "      <th>title</th>\n",
       "      <th>videos</th>\n",
       "    </tr>\n",
       "  </thead>\n",
       "  <tbody>\n",
       "  </tbody>\n",
       "</table>\n",
       "</div>"
      ],
      "text/plain": [
       "Empty DataFrame\n",
       "Columns: [category_id, category_name, channel_id, followers, profile_url, title, videos]\n",
       "Index: []"
      ]
     },
     "metadata": {},
     "output_type": "display_data"
    },
    {
     "name": "stdout",
     "output_type": "stream",
     "text": [
      "Eksik değerli kayıt satır sayısı :  0\n"
     ]
    },
    {
     "data": {
      "text/plain": [
       "category_id          16\n",
       "category_name        17\n",
       "channel_id       104538\n",
       "followers         75070\n",
       "profile_url      104538\n",
       "title            104045\n",
       "videos             5717\n",
       "dtype: int64"
      ]
     },
     "execution_count": 7,
     "metadata": {},
     "output_type": "execute_result"
    }
   ],
   "source": [
    "import pandas as pd\n",
    "import numpy as np\n",
    "youtube = pd.read_csv(\"channels.csv\")\n",
    "youtube.columns = ['category_id', 'category_name', 'channel_id', 'followers', 'profile_url', 'title','videos']\n",
    "youtube.info()\n",
    "youtube.head()\n",
    "\n",
    "## Sayi olmasi beklenirken yanlisliklar -- girilmis degerler olabiliyor ve bunun yuzunden object tipinde gorunuyor. \n",
    "## Bunlarin bulunmasi icin boyle bir islem yapabiliriz.\n",
    "eksik_degerli = youtube[(youtube[\"channel_id\"].str.strip() == \"--\") | (youtube[\"title\"].str.strip() == \"--\")]\n",
    "display(eksik_degerli.head())\n",
    "print('Eksik değerli kayıt satır sayısı : ',  len(eksik_degerli))\n",
    "\n",
    "youtube.nunique()"
   ]
  },
  {
   "cell_type": "code",
   "execution_count": 18,
   "metadata": {},
   "outputs": [],
   "source": [
    "def goruntulenmeyi_kategorize_et(adet):\n",
    "    if adet >= 100000:\n",
    "        return 1\n",
    "    elif adet >= 40000:\n",
    "        return 2\n",
    "    else:\n",
    "        return 3"
   ]
  },
  {
   "cell_type": "code",
   "execution_count": 19,
   "metadata": {},
   "outputs": [
    {
     "data": {
      "text/html": [
       "<div>\n",
       "<style scoped>\n",
       "    .dataframe tbody tr th:only-of-type {\n",
       "        vertical-align: middle;\n",
       "    }\n",
       "\n",
       "    .dataframe tbody tr th {\n",
       "        vertical-align: top;\n",
       "    }\n",
       "\n",
       "    .dataframe thead th {\n",
       "        text-align: right;\n",
       "    }\n",
       "</style>\n",
       "<table border=\"1\" class=\"dataframe\">\n",
       "  <thead>\n",
       "    <tr style=\"text-align: right;\">\n",
       "      <th></th>\n",
       "      <th>category_id</th>\n",
       "      <th>category_name</th>\n",
       "      <th>channel_id</th>\n",
       "      <th>followers</th>\n",
       "      <th>profile_url</th>\n",
       "      <th>title</th>\n",
       "      <th>videos</th>\n",
       "      <th>goruntulenme_grup</th>\n",
       "    </tr>\n",
       "  </thead>\n",
       "  <tbody>\n",
       "    <tr>\n",
       "      <th>0</th>\n",
       "      <td>24</td>\n",
       "      <td>Entertainment</td>\n",
       "      <td>UC-lHJZR3Gqxm24_Vd_AJ5Yw</td>\n",
       "      <td>69896406</td>\n",
       "      <td>http://www.youtube.com/channel/UC-lHJZR3Gqxm24...</td>\n",
       "      <td>PewDiePie</td>\n",
       "      <td>3649</td>\n",
       "      <td>1</td>\n",
       "    </tr>\n",
       "    <tr>\n",
       "      <th>1</th>\n",
       "      <td>10</td>\n",
       "      <td>Music</td>\n",
       "      <td>UCq-Fj5jknLsUf-MWSy4_brA</td>\n",
       "      <td>69471946</td>\n",
       "      <td>http://www.youtube.com/channel/UCq-Fj5jknLsUf-...</td>\n",
       "      <td>T-Series</td>\n",
       "      <td>12820</td>\n",
       "      <td>1</td>\n",
       "    </tr>\n",
       "    <tr>\n",
       "      <th>2</th>\n",
       "      <td>24</td>\n",
       "      <td>Entertainment</td>\n",
       "      <td>UCIwFjwMjI0y7PDBVEO9-bkQ</td>\n",
       "      <td>41858494</td>\n",
       "      <td>http://www.youtube.com/channel/UCIwFjwMjI0y7PD...</td>\n",
       "      <td>Justin Bieber</td>\n",
       "      <td>132</td>\n",
       "      <td>1</td>\n",
       "    </tr>\n",
       "    <tr>\n",
       "      <th>3</th>\n",
       "      <td>26</td>\n",
       "      <td>Howto &amp; Style</td>\n",
       "      <td>UC295-Dw_tDNtZXFeAPAW6Aw</td>\n",
       "      <td>40474509</td>\n",
       "      <td>http://www.youtube.com/channel/UC295-Dw_tDNtZX...</td>\n",
       "      <td>5-Minute Crafts</td>\n",
       "      <td>2350</td>\n",
       "      <td>1</td>\n",
       "    </tr>\n",
       "    <tr>\n",
       "      <th>4</th>\n",
       "      <td>17</td>\n",
       "      <td>Sports</td>\n",
       "      <td>UCJ5v_MCY6GNUBTO8-D3XoAg</td>\n",
       "      <td>36301947</td>\n",
       "      <td>http://www.youtube.com/channel/UCJ5v_MCY6GNUBT...</td>\n",
       "      <td>WWE</td>\n",
       "      <td>37928</td>\n",
       "      <td>1</td>\n",
       "    </tr>\n",
       "  </tbody>\n",
       "</table>\n",
       "</div>"
      ],
      "text/plain": [
       "   category_id  category_name                channel_id  followers  \\\n",
       "0           24  Entertainment  UC-lHJZR3Gqxm24_Vd_AJ5Yw   69896406   \n",
       "1           10          Music  UCq-Fj5jknLsUf-MWSy4_brA   69471946   \n",
       "2           24  Entertainment  UCIwFjwMjI0y7PDBVEO9-bkQ   41858494   \n",
       "3           26  Howto & Style  UC295-Dw_tDNtZXFeAPAW6Aw   40474509   \n",
       "4           17         Sports  UCJ5v_MCY6GNUBTO8-D3XoAg   36301947   \n",
       "\n",
       "                                         profile_url            title  videos  \\\n",
       "0  http://www.youtube.com/channel/UC-lHJZR3Gqxm24...        PewDiePie    3649   \n",
       "1  http://www.youtube.com/channel/UCq-Fj5jknLsUf-...         T-Series   12820   \n",
       "2  http://www.youtube.com/channel/UCIwFjwMjI0y7PD...    Justin Bieber     132   \n",
       "3  http://www.youtube.com/channel/UC295-Dw_tDNtZX...  5-Minute Crafts    2350   \n",
       "4  http://www.youtube.com/channel/UCJ5v_MCY6GNUBT...              WWE   37928   \n",
       "\n",
       "   goruntulenme_grup  \n",
       "0                  1  \n",
       "1                  1  \n",
       "2                  1  \n",
       "3                  1  \n",
       "4                  1  "
      ]
     },
     "metadata": {},
     "output_type": "display_data"
    },
    {
     "data": {
      "text/plain": [
       "goruntulenme_grup\n",
       "1    36214\n",
       "2    26273\n",
       "3    42265\n",
       "Name: followers, dtype: int64"
      ]
     },
     "execution_count": 19,
     "metadata": {},
     "output_type": "execute_result"
    }
   ],
   "source": [
    "youtube['goruntulenme_grup'] = youtube['followers'].apply(goruntulenmeyi_kategorize_et)\n",
    "display(youtube.head())\n",
    "youtube.groupby(\"goruntulenme_grup\")[\"followers\"].count()"
   ]
  },
  {
   "cell_type": "code",
   "execution_count": null,
   "metadata": {},
   "outputs": [],
   "source": []
  }
 ],
 "metadata": {
  "kernelspec": {
   "display_name": "Python 3",
   "language": "python",
   "name": "python3"
  },
  "language_info": {
   "codemirror_mode": {
    "name": "ipython",
    "version": 3
   },
   "file_extension": ".py",
   "mimetype": "text/x-python",
   "name": "python",
   "nbconvert_exporter": "python",
   "pygments_lexer": "ipython3",
   "version": "3.7.3"
  }
 },
 "nbformat": 4,
 "nbformat_minor": 2
}
