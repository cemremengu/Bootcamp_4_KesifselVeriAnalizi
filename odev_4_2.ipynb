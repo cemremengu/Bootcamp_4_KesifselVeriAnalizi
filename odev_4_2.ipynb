{
 "cells": [
  {
   "cell_type": "code",
   "execution_count": 1,
   "metadata": {},
   "outputs": [],
   "source": [
    "### Soru 1:\n",
    "## Rank değişkenini kategorik olarak değerlendirmenin avantaj ve dezavantajlarını göz önünde bulundurun. \n",
    "## Argümanlarınızı mentorunuzla tartışın."
   ]
  },
  {
   "cell_type": "markdown",
   "metadata": {},
   "source": [
    "Rank degiskeni sonlu gibi dusunulup \"Kategorik\" olarak degerlendirilse de bazi durumlarda \"Surekli degisken\" olarak da kabul edilebilir. \n",
    "Surekli degiskenlerden de \"Oran degiskeni\" oalrak tanimlanabilir. Cunku 1. siradaki kanalin goruntulenme sayisi veya abone sayisi da oransal olarak sonraki siralara fark atacaktir."
   ]
  },
  {
   "cell_type": "code",
   "execution_count": 2,
   "metadata": {},
   "outputs": [],
   "source": [
    "### Soru 2:\n",
    "##Aşağıdaki değişkenlerin türlerini belirleyin:\n",
    "#Yaş\n",
    "#Maaş\n",
    "#Gelir\n",
    "#Müşteri türü\n",
    "#Hisse senedi fiyatı"
   ]
  },
  {
   "cell_type": "markdown",
   "metadata": {},
   "source": [
    "Yaş  --> int64\n",
    "Maaş --> int64\n",
    "Gelir --> int64\n",
    "Müşteri türü --> object\n",
    "Hisse senedi fiyatı --> int64"
   ]
  }
 ],
 "metadata": {
  "kernelspec": {
   "display_name": "Python 3",
   "language": "python",
   "name": "python3"
  },
  "language_info": {
   "codemirror_mode": {
    "name": "ipython",
    "version": 3
   },
   "file_extension": ".py",
   "mimetype": "text/x-python",
   "name": "python",
   "nbconvert_exporter": "python",
   "pygments_lexer": "ipython3",
   "version": "3.7.3"
  }
 },
 "nbformat": 4,
 "nbformat_minor": 2
}
